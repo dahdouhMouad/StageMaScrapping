{
 "cells": [
  {
   "cell_type": "code",
   "execution_count": 1,
   "metadata": {},
   "outputs": [
    {
     "name": "stderr",
     "output_type": "stream",
     "text": [
      "Some characters could not be decoded, and were replaced with REPLACEMENT CHARACTER.\n"
     ]
    }
   ],
   "source": [
    "from urllib.request import urlopen\n",
    "from bs4 import BeautifulSoup\n",
    "import datetime\n",
    "import random\n",
    "import re\n",
    "import pandas as pd\n",
    "import numpy as np\n",
    "\n",
    "\n",
    "\n",
    "def Get_detail_stage_ma(URL):\n",
    "    html = urlopen(URL)\n",
    "    bs_ = BeautifulSoup(html,'html.parser')\n",
    "    description_entreprise = bs_.find('p',{'class':'text-justify objectifs-stagiaire'}).get_text()\n",
    "    #print(description_entreprise)\n",
    "    i = bs_.findAll('p')\n",
    "    DESCRIPTION_ENTREPRISE=i[0].get_text()\n",
    "    CONTEXTE_MISSION=i[1].get_text()\n",
    "    PROFIL_RECHERCHE=i[2].get_text()\n",
    "    return(DESCRIPTION_ENTREPRISE,CONTEXTE_MISSION,PROFIL_RECHERCHE)\n",
    "\n",
    "\n",
    "def Get_stage_ma(PageNumber):\n",
    "  \n",
    "  html = urlopen('http://www.stage.ma/offres/{}'.format(PageNumber))\n",
    "  bs = BeautifulSoup(html,'html.parser')\n",
    "  data = {'Titre': [],'Company_name':[],'Stage_duree':[],'stage-depart':[],'stage-ville':[],'date-publication':[],'details':[]\n",
    "          ,'DESCRIPTION-ENTREPRISE':[],'CONTEXTE-MISSION':[],'PROFIL-RECHERCHE':[]}\n",
    "  Offres = bs.findAll('div',{'class':'offre-de-stage-block row'})\n",
    "  for offre in Offres:\n",
    "    Titre = offre.find('h5',{'class':'offre-stage-titre text-md-left text-center'}).get_text()\n",
    "    data['Titre'].append(Titre)\n",
    "\n",
    "    class_entreprise  = offre.findAll('a',{'class':'company-link'})\n",
    "    for entreprise in class_entreprise :\n",
    "      data['Company_name'].append(entreprise.get_text())\n",
    "\n",
    "    stage_duree = offre.find('strong',{'class':'stage-duree'}).get_text()\n",
    "    data['Stage_duree'].append(stage_duree)\n",
    "\n",
    "    stage_depart = offre.find('span', {'class':'stage-depart'}).get_text()\n",
    "    data['stage-depart'].append(stage_depart)\n",
    "\n",
    "    stage_ville = offre.find('strong',{'class':'stage-ville'}).get_text()\n",
    "    data['stage-ville'].append(stage_ville)\n",
    "\n",
    "    date_publication = offre.find('span', {'class':'date-publication d-none d-md-block'}).get_text()\n",
    "    data['date-publication'].append(date_publication)\n",
    "    \n",
    "    details_stage = offre.findAll('label',{'data-toggle':'tooltip'})\n",
    "    des =''\n",
    "    for detail in details_stage:\n",
    "      des =des + detail.get_text() + '|'\n",
    "    data['details'].append(des)\n",
    "    \n",
    "    link = offre.a['href']\n",
    "    DESCRIPTION_ENTREPRISE,CONTEXTE_MISSION,PROFIL_RECHERCHE = Get_detail_stage_ma(str(link))\n",
    "    data['DESCRIPTION-ENTREPRISE'].append(DESCRIPTION_ENTREPRISE)\n",
    "    data['CONTEXTE-MISSION'].append(CONTEXTE_MISSION)\n",
    "    data['PROFIL-RECHERCHE'].append(PROFIL_RECHERCHE)\n",
    "    \n",
    "\n",
    "   \n",
    "  return pd.DataFrame(data)\n",
    "\n",
    "pages = ['','10','20','30','40','50','60','70']\n",
    "appended_data = []\n",
    "for page in pages :\n",
    "        \n",
    "    data = Get_stage_ma(page)\n",
    "    appended_data.append(data)\n",
    "appended_data = pd.concat(appended_data)\n",
    " \n",
    "#appended_data.head(20)\n",
    "\n"
   ]
  },
  {
   "cell_type": "code",
   "execution_count": 4,
   "metadata": {},
   "outputs": [],
   "source": [
    "appended_data.to_csv('StageMa.csv', index=False, encoding='utf-8')   "
   ]
  },
  {
   "cell_type": "code",
   "execution_count": 6,
   "metadata": {},
   "outputs": [],
   "source": [
    "appended_data.to_excel('StageMa.xlsx', index=False, encoding='utf-8')"
   ]
  },
  {
   "cell_type": "code",
   "execution_count": null,
   "metadata": {},
   "outputs": [],
   "source": []
  }
 ],
 "metadata": {
  "kernelspec": {
   "display_name": "Python 3",
   "language": "python",
   "name": "python3"
  },
  "language_info": {
   "codemirror_mode": {
    "name": "ipython",
    "version": 3
   },
   "file_extension": ".py",
   "mimetype": "text/x-python",
   "name": "python",
   "nbconvert_exporter": "python",
   "pygments_lexer": "ipython3",
   "version": "3.8.3"
  }
 },
 "nbformat": 4,
 "nbformat_minor": 4
}
